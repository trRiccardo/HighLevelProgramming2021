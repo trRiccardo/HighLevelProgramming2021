{
 "cells": [
  {
   "cell_type": "markdown",
   "metadata": {},
   "source": [
    "# Numpy\n",
    "\n",
    "NumPy is a fundamental package for <mark>scientific computing with Python</mark>. It contains, among the other things:\n",
    "\n",
    "  * a powerful <mark>N-dimensional array object</mark>\n",
    "  * sophisticated operations on arrays\n",
    "  * tools for integrating C/C++ and Fortran code (not covered in the course)\n",
    "  * (pseudo-)random number generation (in the next lectures)\n",
    "  * linear algebra, Fourier transform, ... (in the next lectures)\n",
    "\n",
    "NumPy can be used as an efficient <mark>multi-dimensional container of generic data</mark>. Arbitrary data-types can be defined and this allows NumPy to seamlessly and speedily integrate with a wide variety of projects.\n",
    "\n",
    "Link to the [NumPy documentation](https://numpy.org/doc/stable/user/whatisnumpy.html)."
   ]
  },
  {
   "cell_type": "code",
   "execution_count": 1,
   "metadata": {},
   "outputs": [],
   "source": [
    "import numpy as np # import naming convention"
   ]
  },
  {
   "cell_type": "markdown",
   "metadata": {},
   "source": [
    "## Arrays\n",
    "\n",
    "Numpy <mark>arrays differ from the python lists</mark>, because Numpy provides:\n",
    "* full <mark>support for multi-dimensional arrays</mark>\n",
    "* <mark>closer to hardware implementation (efficiency)</mark>\n",
    "* designed for <mark>scientific computation (convenience)</mark>\n",
    "\n",
    "Similary to other programming languages that have a specific focus (e.g. \"object-oriented\"), arrays in numpy are so central that developing scientific applications can be considered as \"array-oriented\"."
   ]
  },
  {
   "cell_type": "markdown",
   "metadata": {},
   "source": [
    "A demonstration of the numpy efficiency:"
   ]
  },
  {
   "cell_type": "code",
   "execution_count": 2,
   "metadata": {},
   "outputs": [
    {
     "name": "stdout",
     "output_type": "stream",
     "text": [
      "210 µs ± 8.87 µs per loop (mean ± std. dev. of 7 runs, 1000 loops each)\n",
      "901 ns ± 55.5 ns per loop (mean ± std. dev. of 7 runs, 1000000 loops each)\n"
     ]
    }
   ],
   "source": [
    "# standard python\n",
    "L = range(1000)\n",
    "%timeit [i**2 for i in L]\n",
    "\n",
    "# numpy\n",
    "a = np.arange(1000)\n",
    "%timeit a**2"
   ]
  },
  {
   "cell_type": "markdown",
   "metadata": {},
   "source": [
    "A numpy array is a <mark>grid of **omogeneous** values (all of the same type), and is indexed by a tuple of non-negative integers.</mark>\n",
    "\n",
    "All standard data types are available ([documentation](https://numpy.org/doc/stable/user/basics.types.html)):"
   ]
  },
  {
   "cell_type": "code",
   "execution_count": 3,
   "metadata": {},
   "outputs": [
    {
     "name": "stdout",
     "output_type": "stream",
     "text": [
      "[1. 2. 3.] float64 \n",
      "\n",
      "[1 2 3] uint32 \n",
      "\n",
      "[1.  2.  3.3] float64 \n",
      "\n",
      "[1.+2.j 3.+4.j 5.+6.j] complex128 \n",
      "\n",
      "[ True False False  True] bool \n",
      "\n",
      "['bonjour messieurs dames' 'Hello' 'Hallo'] <U23 \n",
      "\n"
     ]
    }
   ],
   "source": [
    "# The type should specified when the array is created\n",
    "a = np.array([1, 2, 3], 'float64')\n",
    "print(a, a.dtype, '\\n')\n",
    "a = np.array([1, 2, 3], 'uint32')\n",
    "print(a, a.dtype, '\\n')\n",
    "\n",
    "# Alternatively, we can let python to infer the type: \n",
    "a = np.array([1, 2, 3.3])\n",
    "print(a, a.dtype, '\\n')\n",
    "\n",
    "# Also complex numbers are allowed\n",
    "a = np.array([1+2j, 3+4j, 5+6*1j])\n",
    "print (a, a.dtype, '\\n')\n",
    "\n",
    "# Booleans\n",
    "a = np.array([True, False, False, True])\n",
    "print(a, a.dtype, '\\n')\n",
    "\n",
    "# Non-numerical types are also allowed: strings\n",
    "a = np.array(['bonjour messieurs dames', 'Hello', 'Hallo'])\n",
    "print(a, a.dtype, '\\n')\n"
   ]
  },
  {
   "cell_type": "markdown",
   "metadata": {},
   "source": [
    "### Dimensions\n",
    "\n",
    "The <mark>number of dimensions is called the **rank**</mark> of the array.\n",
    "The <mark>**shape** of an array is a tuple of integers giving the size of the array along each dimension.</mark>\n",
    "\n",
    "- 1D arrays:"
   ]
  },
  {
   "cell_type": "code",
   "execution_count": 4,
   "metadata": {},
   "outputs": [
    {
     "name": "stdout",
     "output_type": "stream",
     "text": [
      "array: \n",
      " [0 1 2 3]\n",
      "rank: 1\n",
      "shape: (4,)\n",
      "size of the first dimension (axis): 4\n"
     ]
    }
   ],
   "source": [
    "a1 = np.array([0, 1, 2, 3])\n",
    "print(\"array: \\n\", a1)\n",
    "print(\"rank:\", a1.ndim)\n",
    "print(\"shape:\", a1.shape)\n",
    "print(\"size of the first dimension (axis):\", len(a1)) # not recommended in >1D"
   ]
  },
  {
   "cell_type": "markdown",
   "metadata": {},
   "source": [
    " - 2D arrays:"
   ]
  },
  {
   "cell_type": "code",
   "execution_count": 5,
   "metadata": {},
   "outputs": [
    {
     "name": "stdout",
     "output_type": "stream",
     "text": [
      "2 x 3 array: \n",
      " [[0 1 2]\n",
      " [3 4 5]]\n",
      "rank: 2\n",
      "shape: (2, 3)\n",
      "size of the first dimension (axis): 2\n"
     ]
    }
   ],
   "source": [
    "a2_3 = np.array([[0, 1, 2], [3, 4, 5]])\n",
    "print(\"2 x 3 array: \\n\", a2_3)\n",
    "print(\"rank:\", a2_3.ndim)\n",
    "print(\"shape:\", a2_3.shape)\n",
    "print(\"size of the first dimension (axis):\", len(a2_3))"
   ]
  },
  {
   "cell_type": "markdown",
   "metadata": {},
   "source": [
    "- 3D arrays:"
   ]
  },
  {
   "cell_type": "code",
   "execution_count": 6,
   "metadata": {},
   "outputs": [
    {
     "name": "stdout",
     "output_type": "stream",
     "text": [
      "2 x 3 x 2 array:\n",
      " [[[   1   10  100 1000]\n",
      "  [   2   20  200 2000]\n",
      "  [   3   30  300 3000]]\n",
      "\n",
      " [[   4   40  400 4000]\n",
      "  [   5   50  500 5000]\n",
      "  [   6   60  600 6000]]]\n",
      "rank: 3\n",
      "shape: (2, 3, 4)\n",
      "size of the first dimension (axis): 2\n"
     ]
    }
   ],
   "source": [
    "a2_3_2 = np.array([[[1, 10, 100, 1000], [2, 20, 200, 2000], [3, 30, 300, 3000]], [[4, 40, 400, 4000], [5, 50, 500, 5000], [6, 60, 600, 6000]]])\n",
    "print(\"2 x 3 x 2 array:\\n\", a2_3_2)\n",
    "print(\"rank:\", a2_3_2.ndim)\n",
    "print(\"shape:\", a2_3_2.shape)\n",
    "print(\"size of the first dimension (axis):\", len(a2_3_2))"
   ]
  },
  {
   "cell_type": "markdown",
   "metadata": {},
   "source": [
    "### Initializing arrays"
   ]
  },
  {
   "cell_type": "markdown",
   "metadata": {},
   "source": [
    "Arrays can be <mark>created from lists, but also lists can be obtained by arrays</mark> (however, remember that the two are not equivalent because a <mark>numpy array is **not** a list</mark>):"
   ]
  },
  {
   "cell_type": "code",
   "execution_count": 7,
   "metadata": {},
   "outputs": [
    {
     "name": "stdout",
     "output_type": "stream",
     "text": [
      "[0, 1, 2, 3] <class 'list'>\n"
     ]
    }
   ],
   "source": [
    "l = [0, 1, 2, 3]\n",
    "a = np.array(l)\n",
    "print(a.tolist(), type(a.tolist()))"
   ]
  },
  {
   "cell_type": "markdown",
   "metadata": {},
   "source": [
    "Initialization by using the numpy and linspace methods:"
   ]
  },
  {
   "cell_type": "code",
   "execution_count": 16,
   "metadata": {},
   "outputs": [
    {
     "name": "stdout",
     "output_type": "stream",
     "text": [
      "[1 3 5 7]\n",
      "[0.         0.16666667 0.33333333 0.5        0.66666667 0.83333333\n",
      " 1.        ]\n"
     ]
    }
   ],
   "source": [
    "# evenly spaced:\n",
    "print(np.arange(1, 9, 2)) # same as \"range\": start, end (exclusive), step\n",
    "\n",
    "# or by number of points:\n",
    "print(np.linspace(0, 1, 7)) # start, end, num-points (to be used for plotting f(x))"
   ]
  },
  {
   "cell_type": "markdown",
   "metadata": {},
   "source": [
    "Initialization of the most common arrays:"
   ]
  },
  {
   "cell_type": "code",
   "execution_count": 17,
   "metadata": {},
   "outputs": [
    {
     "name": "stdout",
     "output_type": "stream",
     "text": [
      "[[1. 1. 1.]\n",
      " [1. 1. 1.]\n",
      " [1. 1. 1.]] \n",
      "\n",
      "[[0. 0.]\n",
      " [0. 0.]] \n",
      "\n",
      "[[1. 0. 0.]\n",
      " [0. 1. 0.]\n",
      " [0. 0. 1.]] \n",
      "\n",
      "[[ 1  0  0  0]\n",
      " [ 0 20  0  0]\n",
      " [ 0  0  3  0]\n",
      " [ 0  0  0  4]] \n",
      "\n",
      "[[0 0]\n",
      " [0 1]\n",
      " [0 2]\n",
      " [1 0]\n",
      " [1 1]\n",
      " [1 2]] \n",
      "\n",
      "[[ 4.  5.  8. 13. 20.]\n",
      " [ 2.  1.  2.  5. 10.]\n",
      " [ 4.  1.  0.  1.  4.]\n",
      " [10.  5.  2.  1.  2.]\n",
      " [20. 13.  8.  5.  4.]] \n",
      "\n"
     ]
    }
   ],
   "source": [
    "# 3x3 matrix of 1's\n",
    "ones = np.ones((3, 3))\n",
    "print(ones, '\\n')\n",
    "\n",
    "# 2x2 matrix of 0's\n",
    "zeros = np.zeros((2, 2))\n",
    "print(zeros, '\\n')\n",
    "\n",
    "# 3x3 unitary matrix\n",
    "unity3d = np.eye(3)\n",
    "#unity3d = np.identity(3) # np.identity calls np.eye, so the two are equivalent\n",
    "print(unity3d, '\\n')\n",
    "\n",
    "# generic diagonal matrix\n",
    "diagonal = np.diag(np.array([1, 20, 3, 4]))\n",
    "print(diagonal, '\\n')\n",
    "\n",
    "# from list comprehensions\n",
    "array = np.array([(i, j) for i in range(2) for j in range(3)])\n",
    "print(array, '\\n')\n",
    "\n",
    "# from a function\n",
    "fromfunct = np.fromfunction(lambda i, j: (i - 2)**2 + (j - i)**2, (5, 5))\n",
    "print(fromfunct, '\\n')"
   ]
  },
  {
   "cell_type": "markdown",
   "metadata": {},
   "source": [
    "### Reshaping and Concatenation\n",
    "\n",
    "An initial 1D array can be <mark>reshaped to a multi-dimensional array:</mark>"
   ]
  },
  {
   "cell_type": "code",
   "execution_count": 18,
   "metadata": {},
   "outputs": [
    {
     "name": "stdout",
     "output_type": "stream",
     "text": [
      "original: [0 1 2 3 4 5] \n",
      "\n",
      "reshaped: [[0 1]\n",
      " [2 3]\n",
      " [4 5]] \n",
      "\n",
      "flattened array (back to original): [0 1 2 3 4 5] \n",
      "\n"
     ]
    }
   ],
   "source": [
    "a = np.arange(0, 6)\n",
    "m = a.reshape(3, 2) # if the parameters of the reshaping are not appropriate, reshaping fails\n",
    "print(\"original:\", a, '\\n')\n",
    "print(\"reshaped:\", m, '\\n')\n",
    "# Exercise: check if np.array.reshape returns a view or a copy\n",
    "\n",
    "a_from_m = m.flatten()\n",
    "print(\"flattened array (back to original):\", a_from_m, '\\n')"
   ]
  },
  {
   "cell_type": "markdown",
   "metadata": {},
   "source": [
    "The operation of <mark>concatenating two arrays</mark> is trivial in 1D, much less so in nD:"
   ]
  },
  {
   "cell_type": "code",
   "execution_count": 19,
   "metadata": {},
   "outputs": [
    {
     "name": "stdout",
     "output_type": "stream",
     "text": [
      "1D concatenation: [1 2 3 4 5 6 7 8 9] \n",
      "\n",
      "default 2D concatenation: \n",
      " [[1 2]\n",
      " [3 4]\n",
      " [5 6]\n",
      " [7 8]] \n",
      "\n",
      "concatenation along the first axis: \n",
      " [[1 2]\n",
      " [3 4]\n",
      " [5 6]\n",
      " [7 8]] \n",
      "\n",
      "concatenation along the second axis: \n",
      " [[1 2 5 6]\n",
      " [3 4 7 8]] \n",
      "\n"
     ]
    }
   ],
   "source": [
    "# 1D concatenation\n",
    "a = np.array([1, 2])\n",
    "b = np.array([3, 4, 5, 6])\n",
    "c = np.array([7, 8, 9])\n",
    "print(\"1D concatenation:\", np.concatenate((a, b, c)),'\\n')\n",
    "\n",
    "# nD concatenation\n",
    "a = np.array([[1, 2], [3, 4]])\n",
    "b = np.array([[5, 6], [7, 8]])\n",
    "# if no axis is specified, concatenations occurs on the 1st dimension\n",
    "print(\"default 2D concatenation:\",'\\n', np.concatenate((a, b)),'\\n')\n",
    "\n",
    "print(\"concatenation along the first axis:\",'\\n', np.concatenate((a, b), axis=0), '\\n')\n",
    "print(\"concatenation along the second axis:\",'\\n', np.concatenate((a, b), axis=1), '\\n')"
   ]
  },
  {
   "cell_type": "markdown",
   "metadata": {},
   "source": [
    "### Copies and views"
   ]
  },
  {
   "cell_type": "markdown",
   "metadata": {},
   "source": [
    "<mark>Being **mutable objects**, numpy arrays can have **copies** and **views**:</mark>"
   ]
  },
  {
   "cell_type": "code",
   "execution_count": 24,
   "metadata": {},
   "outputs": [
    {
     "name": "stdout",
     "output_type": "stream",
     "text": [
      "[0 2 3] [0 2 3] [1 2 3]\n",
      "[0 0 3] [0 0 3] [1 2 3]\n",
      "[0 0 3] [0 0 3] [9 2 3]\n",
      "Are a and b the same object? True\n",
      "Are a and c the same object? False\n"
     ]
    }
   ],
   "source": [
    "a = np.array([1, 2, 3])\n",
    "b = a # this is a view\n",
    "\n",
    "c = a.copy() # this is a copy\n",
    "\n",
    "\n",
    "# The changes applied to array a modify also the array b (which, as a matter of fact, are the same PyObject)\n",
    "a[0] = 0\n",
    "print(a, b, c)\n",
    "\n",
    "# ... and viceversa\n",
    "b[1] = 0\n",
    "print(a, b, c)\n",
    "\n",
    "# changes on c do not modify array a\n",
    "c[0] = 9\n",
    "print(a, b, c)\n",
    "\n",
    "# The python object is the same for a and b, but different for c:\n",
    "print(\"Are a and b the same object?\", np.may_share_memory(a, b))\n",
    "print(\"Are a and c the same object?\", np.may_share_memory(a, c))"
   ]
  },
  {
   "cell_type": "markdown",
   "metadata": {},
   "source": [
    "Please remember that, <mark>with numpy objects, the `id()` function does not always work.</mark> To check whether two variables point to the <mark>same PyObject, use `np.may_share_memory()`.</mark>"
   ]
  },
  {
   "cell_type": "markdown",
   "metadata": {},
   "source": [
    "### Indexing\n",
    "\n",
    "The items of an array can be accessed and assigned to the <mark>same way as other Python sequences (e.g. lists):</mark>"
   ]
  },
  {
   "cell_type": "code",
   "execution_count": 25,
   "metadata": {},
   "outputs": [
    {
     "name": "stdout",
     "output_type": "stream",
     "text": [
      "0 2 9\n",
      "[2 5 8]\n",
      "[9 8 7 6 5 4 3 2 1 0]\n"
     ]
    }
   ],
   "source": [
    "a = np.arange(10)\n",
    "print(a[0], a[2], a[-1])\n",
    "\n",
    "# reminder: the [start:stop:step] works as well. \n",
    "# step can be negative and a reverse sequence is thus obtained\n",
    "print(a[2:9:3])\n",
    "print(a[::-1])"
   ]
  },
  {
   "cell_type": "code",
   "execution_count": null,
   "metadata": {},
   "outputs": [],
   "source": [
    "from IPython.display import Image\n",
    "Image(\"numpy_indexing.png\")"
   ]
  },
  {
   "cell_type": "code",
   "execution_count": null,
   "metadata": {},
   "outputs": [],
   "source": [
    "# Exercise: create here the np array used as example above"
   ]
  },
  {
   "cell_type": "markdown",
   "metadata": {},
   "source": [
    "For multidimensional arrays, indexes are tuples of integers.\n",
    "\n",
    "Note:\n",
    "* <mark>in 2D, the first dimension corresponds to rows, the second to columns.</mark>\n",
    "* <mark>for multidimensional a, a[0] is interpreted by taking all elements in the unspecified dimensions.</mark>"
   ]
  },
  {
   "cell_type": "markdown",
   "metadata": {},
   "source": [
    "### Slicing\n",
    "\n",
    "<mark>A slicing operation creates a **view** on the original array, which is just a way of accessing array data.</mark>\n",
    "When <mark>modifying a view, the original array is modified as well.</mark>"
   ]
  },
  {
   "cell_type": "code",
   "execution_count": 27,
   "metadata": {},
   "outputs": [
    {
     "name": "stdout",
     "output_type": "stream",
     "text": [
      "[[0 0 0]\n",
      " [0 1 0]\n",
      " [0 0 2]] \n",
      "\n",
      "1 \n",
      "\n",
      "[0 0 2] \n",
      "\n",
      "[[1 0]\n",
      " [0 2]] \n",
      "\n",
      "[[ 0  0  0]\n",
      " [ 0  1  0]\n",
      " [ 0  0 10]] \n",
      "\n",
      "Are a and b the same object? True\n"
     ]
    }
   ],
   "source": [
    "a = np.diag(np.arange(3))\n",
    "print(a, '\\n')\n",
    "print(a[1, 1], '\\n')\n",
    "print(a[2], '\\n')\n",
    "\n",
    "# slice the original array, creating a view\n",
    "b = a[1:, 1:]\n",
    "print(b, '\\n')\n",
    "\n",
    "# modifying the view also modifies the original array\n",
    "b[-1, -1] = 10\n",
    "print(a, '\\n')\n",
    "\n",
    "# check if b is actually a view of a\n",
    "print(\"Are a and b the same object?\", np.may_share_memory(a, b))"
   ]
  },
  {
   "cell_type": "markdown",
   "metadata": {},
   "source": [
    "### Fancy indexing\n",
    "\n",
    "NumPy arrays can be <mark>indexed with slices, but also with boolean or integer arrays (masks).</mark> This method is called <mark>fancy indexing, and it creates **copies**, not views.</mark>"
   ]
  },
  {
   "cell_type": "code",
   "execution_count": 28,
   "metadata": {},
   "outputs": [
    {
     "name": "stdout",
     "output_type": "stream",
     "text": [
      "original array: [ 0  2  4  6  8 10 12 14 16 18 20] \n",
      "\n",
      "the mask: [ True False False  True False False  True False False  True False] \n",
      "\n",
      "the filtered array: [ 0  6 12 18] \n",
      "\n",
      "Are a and filtered_a the same object? False \n",
      "\n",
      "the modified array: [-1  2  4 -1  8 10 -1 14 16 -1 20] \n",
      "\n"
     ]
    }
   ],
   "source": [
    "a = np.arange(0, 21, 2)\n",
    "print(\"original array:\", a, '\\n')\n",
    "\n",
    "mask = (a % 3 == 0)\n",
    "print(\"the mask:\", mask, '\\n')\n",
    "\n",
    "filtered_a = a[mask]\n",
    "# equivalent to a[a%3==0]\n",
    "print(\"the filtered array:\", filtered_a, '\\n')\n",
    "\n",
    "# verify that fancy indexing creates copies\n",
    "print(\"Are a and filtered_a the same object?\", np.may_share_memory(a, filtered_a), '\\n')\n",
    "\n",
    "# Indexing with a mask can be very useful to assign a new value to a sub-array\n",
    "a[a % 3 == 0] = -1\n",
    "print(\"the modified array:\", a, '\\n')"
   ]
  },
  {
   "cell_type": "markdown",
   "metadata": {},
   "source": [
    "<mark>Indexing can be done with an array of integers, where the same index can be repeated several times.</mark>"
   ]
  },
  {
   "cell_type": "code",
   "execution_count": 29,
   "metadata": {},
   "outputs": [
    {
     "name": "stdout",
     "output_type": "stream",
     "text": [
      "selection of indexes:  [20 30 20 40 20] \n",
      "\n"
     ]
    }
   ],
   "source": [
    "a = np.arange(0, 100, 10)\n",
    "l = [2, 3, 2, 4, 2] # l is a python list\n",
    "print(\"selection of indexes: \", a[l], '\\n')"
   ]
  },
  {
   "cell_type": "markdown",
   "metadata": {},
   "source": [
    "When a new array is created by indexing with an array of integers, <mark>the new array has the same shape as the array of integers:</mark>"
   ]
  },
  {
   "cell_type": "code",
   "execution_count": 30,
   "metadata": {},
   "outputs": [
    {
     "name": "stdout",
     "output_type": "stream",
     "text": [
      "[[ 6  8]\n",
      " [18 14]]\n"
     ]
    }
   ],
   "source": [
    "a = np.arange(0, 20, 2)\n",
    "idx = np.array([[3, 4],[9, 7]]) # note the shape and the ordering\n",
    "print(a[idx])"
   ]
  },
  {
   "cell_type": "code",
   "execution_count": null,
   "metadata": {},
   "outputs": [],
   "source": [
    "# an exstensive example\n",
    "from IPython.display import Image\n",
    "Image(\"numpy_fancy_indexing.png\")"
   ]
  },
  {
   "cell_type": "markdown",
   "metadata": {},
   "source": [
    "## Operations with arrays\n",
    "\n",
    "### Basic operations\n",
    "\n",
    "By default, all operations (additions, subtractions, multiplications, ...) with arrays are performed element-wise:"
   ]
  },
  {
   "cell_type": "code",
   "execution_count": 31,
   "metadata": {
    "scrolled": true
   },
   "outputs": [
    {
     "name": "stdout",
     "output_type": "stream",
     "text": [
      "[0 1 2 3] \n",
      "\n",
      "[ 0  5 10 15] \n",
      "\n",
      "[1 2 4 8] \n",
      "\n"
     ]
    }
   ],
   "source": [
    "# operations with scalars\n",
    "a = np.arange(4)\n",
    "print(a, '\\n')\n",
    "print(a * 5, '\\n')\n",
    "print(2**a, '\\n')"
   ]
  },
  {
   "cell_type": "code",
   "execution_count": 32,
   "metadata": {},
   "outputs": [
    {
     "name": "stdout",
     "output_type": "stream",
     "text": [
      "[0 1 2 3] [2. 2. 2. 2.]\n",
      "a - b: [-2. -1.  0.  1.]\n",
      "a * b: [0. 2. 4. 6.]\n"
     ]
    }
   ],
   "source": [
    "# operations among 1D arrays. Also in this case, all operations are element-wise\n",
    "a = np.arange(4)\n",
    "b = np.ones(4) + 1\n",
    "print(a, b)\n",
    "print(\"a - b:\", a - b)\n",
    "print(\"a * b:\", a * b)"
   ]
  },
  {
   "cell_type": "markdown",
   "metadata": {},
   "source": [
    "Be care ful that, since operations are element-wise in all dimensions, <mark>array multiplication is not matrix multiplication:</mark>"
   ]
  },
  {
   "cell_type": "code",
   "execution_count": 33,
   "metadata": {},
   "outputs": [
    {
     "name": "stdout",
     "output_type": "stream",
     "text": [
      "the original matrix: \n",
      " [[1. 1. 1.]\n",
      " [1. 1. 1.]\n",
      " [1. 1. 1.]] \n",
      "\n",
      "the \"*\" product:  \n",
      " [[1. 1. 1.]\n",
      " [1. 1. 1.]\n",
      " [1. 1. 1.]] \n",
      "\n",
      "the proper matrix product:  \n",
      " [[3. 3. 3.]\n",
      " [3. 3. 3.]\n",
      " [3. 3. 3.]] \n",
      "\n"
     ]
    }
   ],
   "source": [
    "ones = np.ones((3,3))\n",
    "print ('the original matrix:', '\\n', ones, '\\n')\n",
    "\n",
    "print ('the \"*\" product: ', '\\n', ones*ones, '\\n')\n",
    "\n",
    "print ('the proper matrix product: ', '\\n', ones.dot(ones), '\\n')"
   ]
  },
  {
   "cell_type": "markdown",
   "metadata": {},
   "source": [
    "### Other operations\n",
    "\n",
    "- array <mark>comparisons</mark>:"
   ]
  },
  {
   "cell_type": "code",
   "execution_count": 34,
   "metadata": {},
   "outputs": [
    {
     "name": "stdout",
     "output_type": "stream",
     "text": [
      "equal?: [False False  True  True]\n",
      "greater than?: [False  True False  True]\n",
      "False\n"
     ]
    }
   ],
   "source": [
    "# element-wise\n",
    "print('equal?:', np.array([1, 3, 2, 5]) == np.array([3, 1, 2, 5]))\n",
    "print('greater than?:', np.array([1, 3, 2, 5]) > np.array([3, 1, 2, 1]))\n",
    "\n",
    "# array-wise\n",
    "print(np.array_equal(np.array([1, 3, 2, 5]), np.array([3, 1, 2, 1])))"
   ]
  },
  {
   "cell_type": "markdown",
   "metadata": {},
   "source": [
    "- <mark>logical</mark> operations:"
   ]
  },
  {
   "cell_type": "code",
   "execution_count": 35,
   "metadata": {},
   "outputs": [
    {
     "name": "stdout",
     "output_type": "stream",
     "text": [
      "logical OR: [ True  True  True False]\n",
      "logical AND: [ True False False False]\n"
     ]
    }
   ],
   "source": [
    "# logical\n",
    "a = np.array([1, 1, 0, 0], bool)\n",
    "b = np.array([1, 0, 1, 0], bool)\n",
    "print(\"logical OR:\", np.logical_or(a, b))\n",
    "print(\"logical AND:\", np.logical_and(a, b))"
   ]
  },
  {
   "cell_type": "markdown",
   "metadata": {},
   "source": [
    "- <mark>application of functions</mark> on arrays:"
   ]
  },
  {
   "cell_type": "code",
   "execution_count": 36,
   "metadata": {},
   "outputs": [
    {
     "name": "stdout",
     "output_type": "stream",
     "text": [
      "sin: [ 0.84147098  0.90929743  0.14112001 -0.7568025  -0.95892427 -0.2794155\n",
      "  0.6569866   0.98935825]\n",
      "log: [0.         0.69314718 1.09861229 1.38629436 1.60943791 1.79175947\n",
      " 1.94591015 2.07944154]\n",
      "exp: [[2.71828183e+00 7.38905610e+00 2.00855369e+01 5.45981500e+01]\n",
      " [1.48413159e+02 4.03428793e+02 1.09663316e+03 2.98095799e+03]]\n"
     ]
    }
   ],
   "source": [
    "# mathematical functions re-implemented in numpy\n",
    "a = np.arange(1, 9)\n",
    "print(\"sin:\", np.sin(a))\n",
    "print(\"log:\", np.log(a))\n",
    "\n",
    "# works all dimensions\n",
    "m = a.reshape(2, 4)\n",
    "print(\"exp:\", np.exp(m))"
   ]
  },
  {
   "cell_type": "markdown",
   "metadata": {},
   "source": [
    "- <mark>matrices</mark>:"
   ]
  },
  {
   "cell_type": "code",
   "execution_count": 37,
   "metadata": {},
   "outputs": [
    {
     "name": "stdout",
     "output_type": "stream",
     "text": [
      "[[ 0  1  2  3]\n",
      " [ 4  5  6  7]\n",
      " [ 8  9 10 11]\n",
      " [12 13 14 15]]\n",
      "a: \n",
      " [[ 0  1  2  0]\n",
      " [ 4  5  6  7]\n",
      " [ 8  9 10 11]\n",
      " [12 13 14 15]] \n",
      "\n",
      "transpose: \n",
      " [[ 0  4  8 12]\n",
      " [ 1  5  9 13]\n",
      " [ 2  6 10 14]\n",
      " [ 0  7 11 15]] \n",
      "\n"
     ]
    }
   ],
   "source": [
    "# extracting off-diagonal terms\n",
    "print(np.arange(16).reshape(4,4))\n",
    "a = np.tril(np.arange(16).reshape(4, 4), +2) # play with the last parameter (sign and value)\n",
    "#a= np.triu(np.arange(16).reshape(4, 4), -1) # play with the last parameter (sign and value)\n",
    "print (\"a:\", '\\n', a , '\\n')\n",
    "\n",
    "print (\"transpose:\", '\\n', a.T , '\\n') # a.T is a view"
   ]
  },
  {
   "cell_type": "markdown",
   "metadata": {},
   "source": [
    "N.B.: a <mark>linear algebra</mark> package exists in numpy and is called `numpy.linalg`. However, in terms of performance, the package included in `scipy`, also called `scipy.linalg`, is better and more efficient."
   ]
  },
  {
   "cell_type": "markdown",
   "metadata": {},
   "source": [
    "### Reductions\n",
    "\n",
    "<mark>Operations that reduce the dimensionality of arrays are called *reductions*.</mark> The reduction functions <mark>operate on the elements of an array and return a (set of) scalar(s)</mark>, and are available either as methods of the array class or as numpy functions.\n",
    "\n",
    "In dimensions higher than one, the axis has to be specified."
   ]
  },
  {
   "cell_type": "code",
   "execution_count": 38,
   "metadata": {},
   "outputs": [
    {
     "name": "stdout",
     "output_type": "stream",
     "text": [
      "[1 2 3 4 5 6]\n",
      "sum: 21 21\n",
      "min: 1 1\n",
      "max: 6 6\n",
      "index of the minimum argument: 0 0\n",
      "index of the maximum argument: 5 5\n",
      "mean: 3.5 3.5\n",
      "median: 3.5\n",
      "standard deviation: 1.707825127659933 1.707825127659933\n"
     ]
    }
   ],
   "source": [
    "a = np.arange(1,7)\n",
    "print(a)\n",
    "print(\"sum:\", a.sum(), np.sum(a))\n",
    "print(\"min:\", a.min(), np.min(a))\n",
    "print(\"max:\", a.max(), np.max(a))\n",
    "print(\"index of the minimum argument:\", a.argmin(), np.argmin(a))\n",
    "print(\"index of the maximum argument:\", a.argmax(), np.argmax(a))\n",
    "print(\"mean:\", a.mean(), np.mean(a))\n",
    "print(\"median:\", np.median(a)) # median is not a method of the array class..\n",
    "print(\"standard deviation:\", a.std(), np.std(a))\n",
    "# and many others..."
   ]
  },
  {
   "cell_type": "code",
   "execution_count": 39,
   "metadata": {},
   "outputs": [
    {
     "name": "stdout",
     "output_type": "stream",
     "text": [
      "[[1 2]\n",
      " [3 4]\n",
      " [5 6]] \n",
      "\n",
      "sum along the columns: [ 9 12]\n",
      "sum along the rows: [ 3  7 11]\n"
     ]
    }
   ],
   "source": [
    "# these functions work in higher dimensions, too\n",
    "\n",
    "m = a.reshape(3,2)\n",
    "print(m, '\\n')\n",
    "\n",
    "print(\"sum along the columns:\", m.sum(axis=0))\n",
    "print(\"sum along the rows:\", m.sum(axis=1))"
   ]
  },
  {
   "cell_type": "markdown",
   "metadata": {},
   "source": [
    "### Broadcasting\n",
    "\n",
    "<mark>We have seen element-wise operations on arrays</mark>, which work only on arrays of the same rank and shape.\n",
    "Nevertheless, <mark>it’s also possible to do operations on arrays of different sizes if NumPy can transform (*broadcast*) these arrays so that they all have the same size.</mark>"
   ]
  },
  {
   "cell_type": "code",
   "execution_count": null,
   "metadata": {},
   "outputs": [],
   "source": [
    "from IPython.display import Image\n",
    "Image(\"numpy_broadcasting.png\")"
   ]
  },
  {
   "cell_type": "code",
   "execution_count": 41,
   "metadata": {},
   "outputs": [
    {
     "name": "stdout",
     "output_type": "stream",
     "text": [
      "original array: \n",
      " [[ 0  0  0]\n",
      " [10 10 10]\n",
      " [20 20 20]\n",
      " [30 30 30]] \n",
      "\n",
      "broadcasted sum : \n",
      " [[ 0  1  2]\n",
      " [10 11 12]\n",
      " [20 21 22]\n",
      " [30 31 32]] \n",
      "\n"
     ]
    }
   ],
   "source": [
    "a = np.tile(np.arange(0, 40, 10), (3, 1)).T # check what exactly np.tile does on the documentation \n",
    "\n",
    "# np.tile(A, reps) creates an array by repeating A \"reps\" times along each specified axis (axis 0, axis 1)\n",
    "\n",
    "print(\"original array:\", '\\n', a, '\\n')\n",
    "print(\"broadcasted sum :\", '\\n', a + np.arange(3), '\\n')"
   ]
  },
  {
   "cell_type": "markdown",
   "metadata": {},
   "source": [
    "### More on shape manipulation"
   ]
  },
  {
   "cell_type": "code",
   "execution_count": 42,
   "metadata": {},
   "outputs": [
    {
     "name": "stdout",
     "output_type": "stream",
     "text": [
      "new dim along axis 1: \n",
      " [[1]\n",
      " [2]\n",
      " [3]] \n",
      "\n",
      "new dim along axis 0: \n",
      " [[1 2 3]] \n",
      "\n",
      "resizing: \n",
      " [0 1 2 3 0 1 2 3 0] \n",
      "\n"
     ]
    }
   ],
   "source": [
    "# adding a dimension (useful for linear algebra)\n",
    "print(\"new dim along axis 1:\", '\\n', np.arange(1,4)[:,np.newaxis], '\\n')\n",
    "print(\"new dim along axis 0:\", '\\n', np.arange(1,4)[np.newaxis,:], '\\n')\n",
    "\n",
    "# resizing\n",
    "print (\"resizing:\", '\\n', np.resize(np.arange(4), (9,)), '\\n')\n"
   ]
  }
 ],
 "metadata": {
  "kernelspec": {
   "display_name": "local-venv",
   "language": "python",
   "name": "local-venv"
  },
  "language_info": {
   "codemirror_mode": {
    "name": "ipython",
    "version": 3
   },
   "file_extension": ".py",
   "mimetype": "text/x-python",
   "name": "python",
   "nbconvert_exporter": "python",
   "pygments_lexer": "ipython3",
   "version": "3.9.7"
  }
 },
 "nbformat": 4,
 "nbformat_minor": 2
}
