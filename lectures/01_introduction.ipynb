{
 "cells": [
  {
   "cell_type": "markdown",
   "metadata": {},
   "source": [
    "Check online documentation on jupyter [here](http://nbviewer.jupyter.org/urls/bitbucket.org/ipre/calico/raw/master/notebooks/Documentation/Reference%20Guide/Reference%20Guide.ipynb)"
   ]
  },
  {
   "cell_type": "code",
   "execution_count": 1,
   "metadata": {},
   "outputs": [
    {
     "name": "stdout",
     "output_type": "stream",
     "text": [
      "this is python, programming is fun again\n"
     ]
    }
   ],
   "source": [
    "print(\"this is python, programming is fun again\")"
   ]
  },
  {
   "cell_type": "markdown",
   "metadata": {},
   "source": [
    "## Variables"
   ]
  },
  {
   "cell_type": "code",
   "execution_count": 2,
   "metadata": {},
   "outputs": [
    {
     "name": "stdout",
     "output_type": "stream",
     "text": [
      "2\n"
     ]
    },
    {
     "data": {
      "text/plain": [
       "str"
      ]
     },
     "execution_count": 2,
     "metadata": {},
     "output_type": "execute_result"
    }
   ],
   "source": [
    "# This b.t.w is a comment\n",
    "\n",
    "variable = \"2\"\n",
    "print(variable)\n",
    "type(variable)\n"
   ]
  },
  {
   "cell_type": "markdown",
   "metadata": {},
   "source": [
    "the function `print` allows also more powerful way of outputting numbers:"
   ]
  },
  {
   "cell_type": "code",
   "execution_count": 3,
   "metadata": {},
   "outputs": [
    {
     "name": "stdout",
     "output_type": "stream",
     "text": [
      "Art:   453, Price per unit:    59.06\n"
     ]
    }
   ],
   "source": [
    "print(\"Art: %5d, Price per unit: %8.2f\" % (453, 59.058))"
   ]
  },
  {
   "cell_type": "code",
   "execution_count": 4,
   "metadata": {},
   "outputs": [
    {
     "name": "stdout",
     "output_type": "stream",
     "text": [
      "5 1\n"
     ]
    }
   ],
   "source": [
    "a, b = 5, \"1\"# a python trick to assign values to more than one variable\n",
    "print(a,b)"
   ]
  },
  {
   "cell_type": "markdown",
   "metadata": {},
   "source": [
    "try to sum a and b; if it doesn't work, cast one of the two and repeat"
   ]
  },
  {
   "cell_type": "code",
   "execution_count": 9,
   "metadata": {},
   "outputs": [
    {
     "name": "stdout",
     "output_type": "stream",
     "text": [
      "7 7 7\n"
     ]
    }
   ],
   "source": [
    "x = y = z = 7 # multiple assignment\n",
    "print(x, y, z)"
   ]
  },
  {
   "cell_type": "markdown",
   "metadata": {},
   "source": [
    "what if you reassign one of the three (say $y$)?"
   ]
  },
  {
   "cell_type": "code",
   "execution_count": 10,
   "metadata": {},
   "outputs": [
    {
     "name": "stdout",
     "output_type": "stream",
     "text": [
      "1\n"
     ]
    }
   ],
   "source": [
    "# can set values from command line as well (rarely used)\n",
    "x = input(\"set the value of x\")\n",
    "print(x)"
   ]
  },
  {
   "cell_type": "markdown",
   "metadata": {},
   "source": [
    "### Pointers in Python? \n",
    "\n",
    "\n",
    "Pointers are widely used in C and C++. Essentially, they are variables that hold the memory address of another variable.  <mark>Are there pointers in python? Essentially no.\n",
    "Pointers go against the [Zen of Python](https://www.python.org/dev/peps/pep-0020/#id3):</mark>\n",
    "\n",
    "*<mark>Pointers encourage implicit changes rather than explicit.</mark> Often, they are complex instead of simple, especially for beginners. Even worse, they beg for ways to shoot yourself in the foot, or do something really <mark>dangerous like read from a section of memory you were not supposed to</mark>.<mark>Python tends to try to abstract away implementation details like memory addresses from its users. Python often focuses on usability instead of speed.</mark> As a result, pointers in Python doesn’t really make sense.*\n",
    "\n",
    "In Python, everything is an object. Each object contains at least three pieces of data:\n",
    "* reference count: for memory management;\n",
    "* type: use by the interpreter to ensure type safety during runtime;\n",
    "* value: actual value associated to a certain object.\n",
    "It's all about two basics python concepts:\n",
    "1. Mutable vs Immutable objects\n",
    "\n",
    "\n",
    "    * <mark>Immutable objects</mark> cannot be changed: basic types like `int`, `float`, `tuple`, `str`. The fact that the object values cannot change leads to the fact that for example if one creates the `int` variable `x = 5`, it has an `id(x)` different from the variable `x` after it has been changed through some operations, like `x += 1` (now `id(x)` has changed). This is a new object that ends up in a different memory address, since it is **immutable**. For example, if one creates a string `s = \"hello\"`, since it is immutable the code `s[1] = ...` for assignment results in a `TypeError`.\n",
    "\n",
    "    * <mark>Mutable objects</mark> can change: `list`, `set`, `dict`. After one creates a `list`, every element can be changed anytime and the overall object remains the same.\n",
    "\n",
    "2. Variable/Name in python: unlike other languages, Python <mark>doesn't really have variables; it has **names**</mark>. Consider the code `x = 5`: it sums up many different steps:\n",
    "    * creates a `PyObject`, sets its type to `int` and value to `5`;\n",
    "    * creates a name `x`;\n",
    "    * points `x` to the `PyObject` and increases the reference count of the object by one unit.\n",
    "Then, assigning a new value via `x = 6` produces the following results:\n",
    "    * creates a new `PyObject` as before; \n",
    "    * decreases the reference count of the previous object by 1;\n",
    "    * increases the reference count of the new object by 1.\n",
    "Therefore, what the code does is assigning a **name** to a reference. Moreover, the old object remains with a 0 count and will eventually get clean up automatically. Finally, the code `y = x` actually returns the same object with another name, so that the reference count of the object is now 2 and the code `y is x` returns `True`.\n",
    "\n",
    "\n",
    "For more details about all this refer e.g. to [this review](https://realpython.com/pointers-in-python/).\n"
   ]
  },
  {
   "cell_type": "markdown",
   "metadata": {},
   "source": [
    "## Operators\n",
    "the usual stuff.."
   ]
  },
  {
   "cell_type": "code",
   "execution_count": null,
   "metadata": {},
   "outputs": [],
   "source": [
    "#print(3 / 4)\n",
    "#print(3.0 / 4.0)\n",
    "#print(3 % 4)\n",
    "#print(3 // 4)\n",
    "#print(3**4)\n",
    "#print(pow(3, 4))\n",
    "\n",
    "x = 1\n",
    "print(type(x))\n",
    "y = 1.0\n",
    "print(type(y))\n",
    "#a,b = int(3), int(4)\n",
    "#print(a / b)\n",
    "#print(float(a) / float(b))"
   ]
  },
  {
   "cell_type": "markdown",
   "metadata": {},
   "source": [
    "## Iterators\n",
    "very similar to all other languages. Start exploring the `range` and `enumerate` functions"
   ]
  },
  {
   "cell_type": "code",
   "execution_count": 15,
   "metadata": {},
   "outputs": [
    {
     "name": "stdout",
     "output_type": "stream",
     "text": [
      "1\n",
      "2\n",
      "3\n",
      "4\n",
      "5\n",
      "6\n",
      "7\n",
      "8\n",
      "9\n"
     ]
    }
   ],
   "source": [
    "for i in range(1, 10): print (i)"
   ]
  },
  {
   "cell_type": "code",
   "execution_count": 12,
   "metadata": {},
   "outputs": [
    {
     "name": "stdout",
     "output_type": "stream",
     "text": [
      "1\n",
      "2\n",
      "3\n",
      "4\n",
      "5\n",
      "6\n",
      "7\n",
      "8\n",
      "9\n"
     ]
    }
   ],
   "source": [
    "i = 1\n",
    "while i < 10:\n",
    "    print(i)\n",
    "    i+=1"
   ]
  },
  {
   "cell_type": "code",
   "execution_count": 11,
   "metadata": {},
   "outputs": [
    {
     "name": "stdout",
     "output_type": "stream",
     "text": [
      "0 4\n",
      "1 5\n",
      "2 2\n",
      "3 7\n"
     ]
    }
   ],
   "source": [
    "for i, j in enumerate([4,5,2,7]): print(i,j)"
   ]
  },
  {
   "cell_type": "markdown",
   "metadata": {},
   "source": [
    "## Conditional Statements\n",
    "Mind the indentation! "
   ]
  },
  {
   "cell_type": "code",
   "execution_count": null,
   "metadata": {},
   "outputs": [],
   "source": [
    "a = 21\n",
    "if a >= 22: \n",
    "    print(\"if\")\n",
    "elif a >= 21:\n",
    "    print(\"elif\")\n",
    "else:\n",
    "    print(\"else\")"
   ]
  },
  {
   "cell_type": "markdown",
   "metadata": {},
   "source": [
    "try/except: a very important and powerful type of conditional expression, use it and use it with care "
   ]
  },
  {
   "cell_type": "code",
   "execution_count": 18,
   "metadata": {},
   "outputs": [
    {
     "name": "stdout",
     "output_type": "stream",
     "text": [
      "3\n"
     ]
    }
   ],
   "source": [
    "a = 1\n",
    "try:\n",
    "    b = a + 2\n",
    "    print (b)\n",
    "except:\n",
    "    print(a, \" is not a number\")"
   ]
  },
  {
   "cell_type": "markdown",
   "metadata": {},
   "source": [
    "# Functions"
   ]
  },
  {
   "cell_type": "code",
   "execution_count": 19,
   "metadata": {},
   "outputs": [
    {
     "data": {
      "text/plain": [
       "7"
      ]
     },
     "execution_count": 19,
     "metadata": {},
     "output_type": "execute_result"
    }
   ],
   "source": [
    "def my_function(a, b = 2):\n",
    "    result = a + 2 * b\n",
    "    return result\n",
    "\n",
    "my_function(3)"
   ]
  },
  {
   "cell_type": "markdown",
   "metadata": {},
   "source": [
    "Notice that the function <mark>does not specify the types of the arguments</mark>, like you would see in statically typed languages. This is both useful and dangerous. Use the try/except construction to make it safe"
   ]
  },
  {
   "cell_type": "markdown",
   "metadata": {},
   "source": [
    "<mark>A function can edit \"global\" variables as well, i.e. variables that are declared outside the function scope</mark>. To do so the <mark>statement ```global```</mark> is used."
   ]
  },
  {
   "cell_type": "code",
   "execution_count": 21,
   "metadata": {},
   "outputs": [
    {
     "name": "stdout",
     "output_type": "stream",
     "text": [
      "Python is fantastic\n",
      "Python is awesome\n"
     ]
    }
   ],
   "source": [
    "x = \"awesome\"\n",
    "\n",
    "def myfunc():\n",
    "  x = \"fantastic\"\n",
    "  print(\"Python is \" + x)\n",
    "\n",
    "myfunc()\n",
    "\n",
    "# the function didn't modify the global variable\n",
    "print(\"Python is \" + x)"
   ]
  },
  {
   "cell_type": "code",
   "execution_count": 25,
   "metadata": {},
   "outputs": [
    {
     "name": "stdout",
     "output_type": "stream",
     "text": [
      "Python is fantastic\n",
      "Python is fantastic\n"
     ]
    }
   ],
   "source": [
    "x = \"awesome\"\n",
    "\n",
    "def myfunc():\n",
    "\n",
    "  # make it global\n",
    "  global x \n",
    "  x = \"fantastic\"\n",
    "  print(\"Python is \" + x)\n",
    "\n",
    "myfunc()\n",
    "\n",
    "# the function knows that x is a global variable and then it's modified\n",
    "print(\"Python is \" + x)"
   ]
  },
  {
   "cell_type": "markdown",
   "metadata": {},
   "source": [
    "# Lists, Tuples, Dictionaries"
   ]
  },
  {
   "cell_type": "markdown",
   "metadata": {},
   "source": [
    "## Lists\n",
    "Lists are exactly as the name implies. They are <mark> lists of objects. The objects can be any data type </mark> (including lists), and it is allowed to <mark>mix data types</mark>. In this way they are much more flexible than arrays. It is possible to append, delete, insert and count elements and to sort, reverse, etc. the list."
   ]
  },
  {
   "cell_type": "code",
   "execution_count": 26,
   "metadata": {},
   "outputs": [
    {
     "name": "stdout",
     "output_type": "stream",
     "text": [
      "['A', 'B', 'F', 'G', 'd', 'x', 'c', [1, 2, 3, 'this is a string', 5.3], 3]\n"
     ]
    }
   ],
   "source": [
    "a_list = [1, 2, 3, \"this is a string\", 5.3]\n",
    "b_list = [\"A\", \"B\", \"F\", \"G\", \"d\", \"x\", \"c\", a_list, 3]\n",
    "print(b_list)"
   ]
  },
  {
   "cell_type": "markdown",
   "metadata": {},
   "source": [
    "Manipulations of list is rather intuitive: $[i:j]$ means from index $i$ up to $j-1$."
   ]
  },
  {
   "cell_type": "code",
   "execution_count": 27,
   "metadata": {},
   "outputs": [
    {
     "name": "stdout",
     "output_type": "stream",
     "text": [
      "7\n",
      "10\n",
      "[3, 4]\n",
      "[7, 5, 3]\n",
      "[4, 10]\n",
      "[3, 4, 10]\n",
      "[4, 10]\n",
      "[5, 10]\n"
     ]
    }
   ],
   "source": [
    "a = [7, 5, 3, 4, 10]\n",
    "print(a[0])\n",
    "print(a[-1])\n",
    "print(a[2:4])\n",
    "print(a[:3])\n",
    "print(a[3:])\n",
    "print(a[-3:])\n",
    "print(a[3:len(a)])\n",
    "print(a[1::3])"
   ]
  },
  {
   "cell_type": "markdown",
   "metadata": {},
   "source": [
    "Operations on lists are also straightforward:"
   ]
  },
  {
   "cell_type": "code",
   "execution_count": 28,
   "metadata": {},
   "outputs": [
    {
     "name": "stdout",
     "output_type": "stream",
     "text": [
      "[0, 7, 5, 3, 4, 10]\n",
      "[0, 7, 5, 3, 4, 10, 8]\n",
      "[8, 10, 4, 3, 5, 7, 0]\n",
      "[0, 3, 4, 5, 7, 8, 10]\n",
      "[0, 3, 4, 5, 7, 8]\n",
      "[0, 4, 5, 7, 8]\n",
      "[0, 4, 5, 7]\n"
     ]
    }
   ],
   "source": [
    "a.insert(0, 0) # position, value\n",
    "print(a)\n",
    "a.append(8)\n",
    "print(a)\n",
    "a.reverse()\n",
    "print(a)\n",
    "a.sort()\n",
    "print(a)\n",
    "a.pop()\n",
    "print(a)\n",
    "a.remove(3) # value\n",
    "print(a)\n",
    "a.remove(a[4])\n",
    "print(a)"
   ]
  },
  {
   "cell_type": "markdown",
   "metadata": {},
   "source": [
    "Very fancy operations are possibile (known as <mark>list [comprehensions](https://docs.python.org/2/tutorial/datastructures.html?highlight=comprehensions)</mark>)"
   ]
  },
  {
   "cell_type": "code",
   "execution_count": null,
   "metadata": {},
   "outputs": [],
   "source": [
    "even_numbers = [x for x in range(20) if x % 2 == 0]\n",
    "print(even_numbers)"
   ]
  },
  {
   "cell_type": "markdown",
   "metadata": {},
   "source": [
    "<mark>strings are lists</mark> and feature all operations permitted on strings, comprehensions as well"
   ]
  },
  {
   "cell_type": "code",
   "execution_count": 29,
   "metadata": {},
   "outputs": [
    {
     "name": "stdout",
     "output_type": "stream",
     "text": [
      "['I', 't', ' ', 'w', 'a', 's', ' ', 'a', ' ', 'd', 'a', 'r', 'k', ' ', 'a', 'n', 'd', ' ', 's', 't', 'o', 'r', 'm', 'y', ' ', 'n', 'i', 'g', 'h', 't', '.']\n"
     ]
    }
   ],
   "source": [
    "first_sentence = \"It was a dark and stormy night.\"\n",
    "characters = [x for x in first_sentence]\n",
    "print(characters)"
   ]
  },
  {
   "cell_type": "markdown",
   "metadata": {},
   "source": [
    "the opposite is also possible, but in a different way:"
   ]
  },
  {
   "cell_type": "code",
   "execution_count": 30,
   "metadata": {},
   "outputs": [
    {
     "name": "stdout",
     "output_type": "stream",
     "text": [
      "It was a dark and stormy night.\n"
     ]
    }
   ],
   "source": [
    "second_sentence = ''.join(characters)\n",
    "print(second_sentence)"
   ]
  },
  {
   "cell_type": "markdown",
   "metadata": {},
   "source": [
    "### Strings and String Handling\n",
    "One of the most important features of Python is its powerful and easy handling of strings. Defining strings is simple enough in most languages. But in Python, it is <mark>easy to search and replace, convert cases, concatenate, or access elements</mark>. We’ll discuss a few of these here. For a complete list, see this [tutorial]( http://www.tutorialspoint.com/python/python_strings.htm)"
   ]
  },
  {
   "cell_type": "code",
   "execution_count": 31,
   "metadata": {},
   "outputs": [
    {
     "name": "stdout",
     "output_type": "stream",
     "text": [
      "A string of characters, with newline \n",
      " CAPITALS, etc.\n",
      "A string of characters, with newline \n",
      " CAPITALS, etc.\n",
      " We can format strings for printing 5.00\n"
     ]
    }
   ],
   "source": [
    "a = \"A string of characters, with newline \\n CAPITALS, etc.\"\n",
    "print(a)\n",
    "b = 5.0\n",
    "newstring = a + \"\\n We can format strings for printing %.2f\"\n",
    "print(newstring % b)"
   ]
  },
  {
   "cell_type": "markdown",
   "metadata": {},
   "source": [
    "Operations are easy (remember strings are lists!)"
   ]
  },
  {
   "cell_type": "code",
   "execution_count": 32,
   "metadata": {},
   "outputs": [
    {
     "name": "stdout",
     "output_type": "stream",
     "text": [
      "BC\n",
      "ABC D\n"
     ]
    }
   ],
   "source": [
    "a = \"ABC DEFG\"\n",
    "print(a[1:3])\n",
    "print(a[0:5])"
   ]
  },
  {
   "cell_type": "code",
   "execution_count": 33,
   "metadata": {},
   "outputs": [
    {
     "name": "stdout",
     "output_type": "stream",
     "text": [
      "abc defg\n",
      "ABC DEFG\n",
      "4\n",
      "ABC afg\n",
      "ABC defg\n",
      "ABC aaag\n",
      "ABC cccg\n"
     ]
    },
    {
     "data": {
      "text/plain": [
       "3"
      ]
     },
     "execution_count": 33,
     "metadata": {},
     "output_type": "execute_result"
    }
   ],
   "source": [
    "a = \"ABC defg\"\n",
    "print(a.lower())\n",
    "print(a.upper())\n",
    "print(a.find('d'))\n",
    "print(a.replace('de', 'a'))\n",
    "print(a)\n",
    "b = a.replace('def', 'aaa')\n",
    "print(b)\n",
    "b = b.replace('a', 'c')\n",
    "print(b)\n",
    "b.count('c')"
   ]
  },
  {
   "cell_type": "code",
   "execution_count": 34,
   "metadata": {},
   "outputs": [
    {
     "name": "stdout",
     "output_type": "stream",
     "text": [
      "abc defg\n"
     ]
    }
   ],
   "source": [
    "print(\"ABC defg\".lower())"
   ]
  },
  {
   "cell_type": "markdown",
   "metadata": {},
   "source": [
    "## Tuples\n",
    "Tuples are like lists with one very important difference. <mark>Tuples are not changeable (**immutable objects**)</mark>."
   ]
  },
  {
   "cell_type": "code",
   "execution_count": 38,
   "metadata": {},
   "outputs": [
    {
     "name": "stdout",
     "output_type": "stream",
     "text": [
      "(1, 2, 3, 4)\n"
     ]
    },
    {
     "ename": "TypeError",
     "evalue": "'tuple' object does not support item assignment",
     "output_type": "error",
     "traceback": [
      "\u001b[0;31m---------------------------------------------------------------------------\u001b[0m",
      "\u001b[0;31mTypeError\u001b[0m                                 Traceback (most recent call last)",
      "\u001b[0;32m/tmp/ipykernel_497/4211965116.py\u001b[0m in \u001b[0;36m<module>\u001b[0;34m\u001b[0m\n\u001b[1;32m      1\u001b[0m \u001b[0ma\u001b[0m \u001b[0;34m=\u001b[0m \u001b[0;34m(\u001b[0m\u001b[0;36m1\u001b[0m\u001b[0;34m,\u001b[0m \u001b[0;36m2\u001b[0m\u001b[0;34m,\u001b[0m \u001b[0;36m3\u001b[0m\u001b[0;34m,\u001b[0m \u001b[0;36m4\u001b[0m\u001b[0;34m)\u001b[0m\u001b[0;34m\u001b[0m\u001b[0;34m\u001b[0m\u001b[0m\n\u001b[1;32m      2\u001b[0m \u001b[0mprint\u001b[0m\u001b[0;34m(\u001b[0m\u001b[0ma\u001b[0m\u001b[0;34m)\u001b[0m\u001b[0;34m\u001b[0m\u001b[0;34m\u001b[0m\u001b[0m\n\u001b[0;32m----> 3\u001b[0;31m \u001b[0ma\u001b[0m\u001b[0;34m[\u001b[0m\u001b[0;36m1\u001b[0m\u001b[0;34m]\u001b[0m \u001b[0;34m=\u001b[0m \u001b[0;36m3\u001b[0m\u001b[0;34m\u001b[0m\u001b[0;34m\u001b[0m\u001b[0m\n\u001b[0m",
      "\u001b[0;31mTypeError\u001b[0m: 'tuple' object does not support item assignment"
     ]
    }
   ],
   "source": [
    "a = (1, 2, 3, 4)\n",
    "print(a)\n",
    "a[1] = 3"
   ]
  },
  {
   "cell_type": "markdown",
   "metadata": {},
   "source": [
    "## Dictionaries\n",
    "Dictionaries are of paramount importance and a major asset of python.\n",
    "They are <mark>unordered, keyed lists. Lists are ordered, and the index may be viewed as a key.</mark>"
   ]
  },
  {
   "cell_type": "code",
   "execution_count": 39,
   "metadata": {},
   "outputs": [
    {
     "name": "stdout",
     "output_type": "stream",
     "text": [
      "A\n"
     ]
    }
   ],
   "source": [
    "a = {'anItem' : \"A\", 'anotherItem' : [\"a,bc\"], 3 : \"C\", 'afourthItem' : 7} # dictionary example\n",
    "print(a['anItem'])"
   ]
  },
  {
   "cell_type": "code",
   "execution_count": 40,
   "metadata": {
    "scrolled": true
   },
   "outputs": [
    {
     "name": "stdout",
     "output_type": "stream",
     "text": [
      "anItem A\n",
      "anotherItem ['a,bc']\n",
      "3 C\n",
      "afourthItem 7\n"
     ]
    }
   ],
   "source": [
    "for i in a: print(i, a[i])"
   ]
  },
  {
   "cell_type": "code",
   "execution_count": 41,
   "metadata": {},
   "outputs": [
    {
     "name": "stdout",
     "output_type": "stream",
     "text": [
      "Keys: dict_keys(['anItem', 'anotherItem', 3, 'afourthItem'])\n",
      "Values: dict_values(['A', ['a,bc'], 'C', 7])\n"
     ]
    }
   ],
   "source": [
    "print(\"Keys:\", a.keys())\n",
    "print(\"Values:\", a.values())"
   ]
  },
  {
   "cell_type": "markdown",
   "metadata": {},
   "source": [
    "## Sets"
   ]
  },
  {
   "cell_type": "markdown",
   "metadata": {},
   "source": [
    "<mark>Sets are used to store multiple items in a single variable</mark>, but differently from lists and dictionaries, they are <mark>unordered, do not support duplicates and are not subscriptable</mark>. <mark>Numerical sets are ordered in increasing order by default</mark>."
   ]
  },
  {
   "cell_type": "code",
   "execution_count": 42,
   "metadata": {},
   "outputs": [
    {
     "name": "stdout",
     "output_type": "stream",
     "text": [
      "{'cherry', 'apple', 2}\n"
     ]
    }
   ],
   "source": [
    "a = {\"apple\", 2, \"cherry\", 2}\n",
    "print(a)"
   ]
  },
  {
   "cell_type": "code",
   "execution_count": 46,
   "metadata": {},
   "outputs": [
    {
     "name": "stdout",
     "output_type": "stream",
     "text": [
      "{1, 2, 3, 4, 5, 7, 8}\n"
     ]
    }
   ],
   "source": [
    "a = [5, 2, 3, 4, 1, 7, 8]\n",
    "print(set(a))"
   ]
  },
  {
   "cell_type": "code",
   "execution_count": 43,
   "metadata": {},
   "outputs": [
    {
     "ename": "TypeError",
     "evalue": "'set' object is not subscriptable",
     "output_type": "error",
     "traceback": [
      "\u001b[0;31m---------------------------------------------------------------------------\u001b[0m",
      "\u001b[0;31mTypeError\u001b[0m                                 Traceback (most recent call last)",
      "\u001b[0;32m/tmp/ipykernel_497/2692428505.py\u001b[0m in \u001b[0;36m<module>\u001b[0;34m\u001b[0m\n\u001b[0;32m----> 1\u001b[0;31m \u001b[0mprint\u001b[0m\u001b[0;34m(\u001b[0m\u001b[0ma\u001b[0m\u001b[0;34m[\u001b[0m\u001b[0;36m1\u001b[0m\u001b[0;34m]\u001b[0m\u001b[0;34m)\u001b[0m\u001b[0;34m\u001b[0m\u001b[0;34m\u001b[0m\u001b[0m\n\u001b[0m",
      "\u001b[0;31mTypeError\u001b[0m: 'set' object is not subscriptable"
     ]
    }
   ],
   "source": [
    "print(a[1])"
   ]
  },
  {
   "cell_type": "code",
   "execution_count": 44,
   "metadata": {},
   "outputs": [
    {
     "name": "stdout",
     "output_type": "stream",
     "text": [
      "{'cherry', 'apple', 2, '3'}\n",
      "{'apple', 2, 7, 'cherry', '3', 'banana'}\n"
     ]
    }
   ],
   "source": [
    "a.add(\"3\")\n",
    "print(a)\n",
    "a.update({7, \"banana\"})\n",
    "print(a)"
   ]
  }
 ],
 "metadata": {
  "kernelspec": {
   "display_name": "local-venv",
   "language": "python",
   "name": "local-venv"
  }
 },
 "nbformat": 4,
 "nbformat_minor": 2
}
