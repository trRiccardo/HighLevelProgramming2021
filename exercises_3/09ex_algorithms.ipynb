{
 "cells": [
  {
   "cell_type": "code",
   "execution_count": 68,
   "metadata": {},
   "outputs": [],
   "source": [
    "import numpy as np\n",
    "import pandas as pd\n",
    "import scipy as sp\n",
    "from scipy.optimize import Bounds\n",
    "import matplotlib.pyplot as plt\n",
    "%matplotlib inline\n",
    "from matplotlib.ticker import AutoMinorLocator, MultipleLocator, FuncFormatter"
   ]
  },
  {
   "cell_type": "code",
   "execution_count": 69,
   "metadata": {},
   "outputs": [],
   "source": [
    "def set_ticks(ax, xMaj, xMin, yMaj, yMin):\n",
    "    ax.xaxis.set_major_locator(MultipleLocator(xMaj))\n",
    "    ax.xaxis.set_minor_locator(AutoMinorLocator(xMin))\n",
    "    ax.yaxis.set_major_locator(MultipleLocator(yMaj))\n",
    "    ax.yaxis.set_minor_locator(AutoMinorLocator(yMin))\n",
    "    ax.tick_params(which='major', width=1.0, length=10, direction=\"in\", labelsize=12)\n",
    "    ax.tick_params(which='minor', width=1.0, length=5, direction=\"in\", labelsize=12)"
   ]
  },
  {
   "cell_type": "markdown",
   "metadata": {},
   "source": [
    "1\\. **Hurricanes per Year**\n",
    "\n",
    "The number of hurricanes in 2005 was 15. The historic average is 6.3. Is this number signficantly different?\n",
    "- Assume the number of hurricanes is random, i.e. follows the Poisson distribution.\n",
    "- Assume as statistically significant a probability that has a Z score of 3 or larger with respect a normal distribution.\n",
    "\n",
    "**Hint**: compute the probability that in a single year are observed 15 or more hurricances."
   ]
  },
  {
   "cell_type": "code",
   "execution_count": 70,
   "metadata": {},
   "outputs": [
    {
     "name": "stdout",
     "output_type": "stream",
     "text": [
      "The Z score is 3.1400853556957866\n",
      "The Z score assuming a normal pdf is 3.4661629670697414\n",
      "Yes, the 2005 value is statistically significant.\n"
     ]
    }
   ],
   "source": [
    "val = 15\n",
    "avg = 6.3\n",
    "\n",
    "# using a Poisson pdf\n",
    "pval = sp.stats.poisson.sf(val, avg)\n",
    "z    = sp.stats.norm.ppf(1-pval)\n",
    "\n",
    "print(\"The Z score is\", z)\n",
    "\n",
    "# using a Gaussian pdf\n",
    "sigma = np.sqrt(avg)\n",
    "z_norm = abs(val - avg) / sigma\n",
    "\n",
    "print(\"The Z score assuming a normal pdf is\", z_norm)\n",
    "if(z > 3):\n",
    "    print(\"Yes, the 2005 value is statistically significant.\")\n",
    "else:\n",
    "    print(\"No, the 2005 value is not statistically significant.\")"
   ]
  },
  {
   "cell_type": "code",
   "execution_count": 71,
   "metadata": {},
   "outputs": [
    {
     "data": {
      "image/png": "[encoded data removed]",
      "text/plain": [
       "<Figure size 720x432 with 1 Axes>"
      ]
     },
     "metadata": {
      "needs_background": "light"
     },
     "output_type": "display_data"
    }
   ],
   "source": [
    "# plot layout\n",
    "fig, ax = plt.subplots(figsize=(10, 6))\n",
    "set_ticks(ax, 5, 3, 0.05, 1)\n",
    "\n",
    "# data\n",
    "x = np.arange(0, 30, 1)\n",
    "y_pois = sp.stats.poisson.pmf(k=x, mu=avg)\n",
    "y_norm = sp.stats.norm.pdf(x, loc=avg, scale=sigma)\n",
    "\n",
    "# plot\n",
    "_ = ax.hist(x=x, weights=y_norm, bins=20, histtype=\"stepfilled\", label=\"Normal\", facecolor=\"red\", alpha=0.25)\n",
    "_ = ax.hist(x=x, weights=y_norm, bins=20, histtype=\"step\", edgecolor=\"red\", linewidth=2)\n",
    "\n",
    "_ = ax.hist(x=x, weights=y_pois, bins=20, histtype=\"stepfilled\", label=\"Poisson\", facecolor=\"darkblue\", alpha=0.25)\n",
    "_ = ax.hist(x=x, weights=y_pois, bins=20, histtype=\"step\", edgecolor=\"darkblue\", linewidth=2)\n",
    "\n",
    "ax.axvline(val, color=\"red\", lw=2, label=\"Value (2005)\")\n",
    "\n",
    "# labels\n",
    "ax.set_xlabel(\"N\", fontsize=13)\n",
    "ax.set_ylabel(\"PDF\", fontsize=13)\n",
    "_ = ax.legend(loc='upper right', markerscale=1)"
   ]
  },
  {
   "cell_type": "markdown",
   "metadata": {},
   "source": [
    "2\\. **Pairwise t-test**\n",
    "\n",
    "In an experiment, a group of 10 individuals agreed to participate in a study of blood pressure changes following exposure to halogen lighting. Resting systolic blood pressure was recorded for each individual. The participants were then exposed to 20 minutes in a room lit only by halogen lamps. A post-exposure systolic blood pressure reading was recorded for each individual. The results are presented in the following data set:\n",
    "\n",
    "```python\n",
    "pre = np.array([120, 132, 120, 110, 115, 128, 120, 112, 110, 100])\n",
    "post = np.array([140, 156, 145, 130, 117, 148, 137, 119, 127, 135])\n",
    "```\n",
    "\n",
    "Determine whether the change in blood pressures within our sample was statistically significant.\n",
    "\n",
    "**Hint:**\n",
    "in this case, the Student's $t$-test should be performed to compare the two datasets.\n",
    "Use the following test statistics:\n",
    "\n",
    "$$T = \\frac{\\bar{x}_1 - \\bar{x}_2}{\\sigma \\sqrt{\\frac{2}{n}}}$$\n",
    "\n",
    "and \n",
    "\n",
    "$$\\sigma = \\sqrt{\\frac{\\sigma_1^2 + \\sigma_2^2}{2}}$$"
   ]
  },
  {
   "cell_type": "code",
   "execution_count": 72,
   "metadata": {},
   "outputs": [
    {
     "name": "stdout",
     "output_type": "stream",
     "text": [
      "T = 3.7870\n",
      "The p-value is 0.0043\n",
      "The p-value is less than the 2.5% threshold, hence we reject the null hypotesis.\n",
      "The change is statistically significant.\n"
     ]
    }
   ],
   "source": [
    "pre  = np.array([120, 132, 120, 110, 115, 128, 120, 112, 110, 100])\n",
    "post = np.array([140, 156, 145, 130, 117, 148, 137, 119, 127, 135])\n",
    "\n",
    "# compute mean and stdev\n",
    "mean_pre = np.mean(pre)\n",
    "mean_post = np.mean(post)\n",
    "s_pre = np.std(pre, ddof=1)\n",
    "s_post = np.std(post, ddof=1)\n",
    "\n",
    "# compute sigma and test\n",
    "n = len(pre)\n",
    "dof = n - 1\n",
    "\n",
    "sigma = np.sqrt((s_pre**2 + s_post**2) / 2)\n",
    "T = np.abs(mean_pre - mean_post) / (sigma * np.sqrt(2/n)) \n",
    "print(\"T = %.4f\" % T)\n",
    "\n",
    "# p-value of double tailed Student pdf\n",
    "pval = sp.stats.t.cdf(-T, loc=0, scale=1, df=dof)  + sp.stats.t.sf(T, loc=0, scale=1, df=dof) \n",
    "print(\"The p-value is %.4f\" % pval)\n",
    "\n",
    "threshold = 0.025\n",
    "if(pval < threshold):\n",
    "    print(\"The p-value is less than the 2.5% threshold, hence we reject the null hypotesis.\")\n",
    "    print(\"The change is statistically significant.\")\n",
    "else:\n",
    "    print(\"The change is *not* statistically significant.\")"
   ]
  },
  {
   "cell_type": "markdown",
   "metadata": {},
   "source": [
    "3\\. **FFT of a simple dataset**\n",
    "\n",
    "Perform a periodicity analysis on the lynxs-hares population, i.e. determine what is the period of the population of these animals."
   ]
  },
  {
   "cell_type": "code",
   "execution_count": null,
   "metadata": {},
   "outputs": [],
   "source": [
    "#load the data and plot it\n",
    "data = np.loadtxt('populations.txt')\n",
    "year, hares, lynxes, carrots = data.T\n",
    "plt.axes([0.2, 0.1, 0.5, 0.8]) \n",
    "plt.plot(year, hares, year, lynxes, year, carrots) \n",
    "plt.legend(('Hare', 'Lynx', 'Carrot'), loc=(1.05, 0.5)) "
   ]
  },
  {
   "cell_type": "markdown",
   "metadata": {},
   "source": [
    "4\\. **FFT of an image**\n",
    "\n",
    "Write a filter that removes the periodic noise from the `moonlanding.png` image by using a 2-dimensional FFT.\n",
    "\n",
    "* Import the image as a 2D numpy array using `plt.imread(\"moonlanding.png\")`. Examine the image with `plt.imshow()`, which is heavily contaminated with periodic noise.\n",
    "* Check the documentation of the `scipy.fftpack` package, and find the method that performs a 2D FFT. Plot the spectrum (Fourier transform of) the image. **Hint**: use `LogNorm` to plot the colors in log scale:\n",
    "```Python\n",
    "from matplotlib.colors import LogNorm\n",
    "plt.imshow(image, norm=LogNorm(vmin=5))\n",
    "```\n",
    "* Inspect the spectrum, and try to locate the regions of the power spectrum that contain the signal and those which contain the periodic noise. Use array slicing to set the noise regions to zero.\n",
    "* Apply the inverse Fourier transform to plot the resulting image."
   ]
  },
  {
   "cell_type": "code",
   "execution_count": null,
   "metadata": {},
   "outputs": [],
   "source": []
  }
 ],
 "metadata": {
  "kernelspec": {
   "display_name": "Python 3",
   "language": "python",
   "name": "python3"
  },
  "language_info": {
   "codemirror_mode": {
    "name": "ipython",
    "version": 3
   },
   "file_extension": ".py",
   "mimetype": "text/x-python",
   "name": "python",
   "nbconvert_exporter": "python",
   "pygments_lexer": "ipython3",
   "version": "3.8.8"
  }
 },
 "nbformat": 4,
 "nbformat_minor": 2
}
